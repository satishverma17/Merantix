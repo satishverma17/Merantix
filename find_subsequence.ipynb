{
 "cells": [
  {
   "cell_type": "code",
   "execution_count": 8,
   "metadata": {},
   "outputs": [],
   "source": [
    "#importing necessary libraries\n",
    "import sys"
   ]
  },
  {
   "cell_type": "code",
   "execution_count": 5,
   "metadata": {},
   "outputs": [],
   "source": [
    "#initialize max_limit as a global variable\n",
    "max_limit = 0 "
   ]
  },
  {
   "cell_type": "code",
   "execution_count": 9,
   "metadata": {},
   "outputs": [],
   "source": [
    "#function for processing absolute differences\n",
    "def sumAbsolute(data_arr): \n",
    "  \n",
    "    sum = 0\n",
    "    n = len(data_arr)\n",
    "    for i in range(n - 1, -1, -1): \n",
    "        sum += i*data_arr[i] - (n-1-i) * data_arr[i] \n",
    "    return abs(sum)\n"
   ]
  },
  {
   "cell_type": "code",
   "execution_count": null,
   "metadata": {},
   "outputs": [],
   "source": [
    "#function for colculating non-empty subsequence with the highest _sum_\n",
    "def processarray(logfile,num):\n",
    "\n",
    "    max_so_far = num[0]\n",
    "    cur_max = num[0]\n",
    "\n",
    "    #sys.argv[2] is passed to limit maximum length of subsequence \n",
    "    if len(sys.argv) >= 3:\n",
    "        max_limit = sys.argv[2]\n",
    "    else :\n",
    "        max_limit = len(num);\n",
    "\n",
    "    #looping for each element of the arrat num\n",
    "    for i in range(1,int(max_limit)):\n",
    "        cur_max = max(num[i], cur_max + num[i])\n",
    "        max_so_far = max(max_so_far,cur_max)\n",
    "    print(\"maximun sum is \" + str(max_so_far))\n"
   ]
  },
  {
   "cell_type": "code",
   "execution_count": null,
   "metadata": {},
   "outputs": [],
   "source": [
    "def main(argv):\n",
    "    logfile = sys.argv[1]\n",
    "    max_limit = 0\n",
    "    #Opening the logfile passed as parameter sys.arg[1] and fetching the values to an array\n",
    "    with open(logfile, 'r') as f:\n",
    "        nums = f.read().split()\n",
    "        num = []\n",
    "    for i in nums : num.append(int (i))\n",
    "    #checking for third parameter for selecting type of processing algorithm    \n",
    "    if sys.argv[3] == \"differences\":\n",
    "        print(\"Absolute value is \" + str(sumAbsolute(num)))\n",
    "    elif sys.argv[3] == \"values\":\n",
    "        processarray(logfile,num)"
   ]
  },
  {
   "cell_type": "code",
   "execution_count": null,
   "metadata": {},
   "outputs": [],
   "source": [
    "if __name__ == \"__main__\":\n",
    "   main(sys.argv[1:])"
   ]
  }
 ],
 "metadata": {
  "kernelspec": {
   "display_name": "Python 3",
   "language": "python",
   "name": "python3"
  },
  "language_info": {
   "codemirror_mode": {
    "name": "ipython",
    "version": 3
   },
   "file_extension": ".py",
   "mimetype": "text/x-python",
   "name": "python",
   "nbconvert_exporter": "python",
   "pygments_lexer": "ipython3",
   "version": "3.7.1"
  }
 },
 "nbformat": 4,
 "nbformat_minor": 2
}
